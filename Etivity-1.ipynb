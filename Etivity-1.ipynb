{
 "cells": [
  {
   "cell_type": "markdown",
   "id": "6c2603d7",
   "metadata": {},
   "source": [
    "## Submission Info\n",
    "### Student Name: <span style=\"color:red\">Colm</span>\n",
    "### Student Surname: <span style=\"color:red\">Kenny</span>\n",
    "### Student ID: <span style=\"color:red\">18225012</span>\n",
    "### Date of Final Submission: <span style=\"color:red\">16/10/2022</span>\n",
    "***"
   ]
  },
  {
   "cell_type": "markdown",
   "id": "a2b8d751",
   "metadata": {},
   "source": [
    "## Introduction\n",
    "\n",
    "In this e-tivity, I will be training and testing a machine learning model to predict the price of a bond. To do this, I must load and preprocess the dataset. There are specific requirements for a dataset to be suitably useful for a ML model. Once I have the finalised dataset I will select a model to train and test the model's prediction accuracy.\n",
    "\n",
    "\n",
    "## The Dataset\n",
    "The provided dataset covers bond trading operations (buy and sell) on a financial market. The data is labeled and provided in its raw format, so it needs to be preprocessed.   "
   ]
  },
  {
   "cell_type": "code",
   "execution_count": 1,
   "id": "3f30c0a2",
   "metadata": {
    "scrolled": true
   },
   "outputs": [
    {
     "data": {
      "text/html": [
       "<div>\n",
       "<style scoped>\n",
       "    .dataframe tbody tr th:only-of-type {\n",
       "        vertical-align: middle;\n",
       "    }\n",
       "\n",
       "    .dataframe tbody tr th {\n",
       "        vertical-align: top;\n",
       "    }\n",
       "\n",
       "    .dataframe thead th {\n",
       "        text-align: right;\n",
       "    }\n",
       "</style>\n",
       "<table border=\"1\" class=\"dataframe\">\n",
       "  <thead>\n",
       "    <tr style=\"text-align: right;\">\n",
       "      <th></th>\n",
       "      <th>NoRelatedSym</th>\n",
       "      <th>Symbol</th>\n",
       "      <th>SymbolSfx</th>\n",
       "      <th>SecurityID</th>\n",
       "      <th>SecurityIDSource</th>\n",
       "      <th>SecurityType</th>\n",
       "      <th>MaturityDate</th>\n",
       "      <th>IssueDate</th>\n",
       "      <th>Side</th>\n",
       "      <th>OrderQty</th>\n",
       "      <th>...</th>\n",
       "      <th>NoPartIDs</th>\n",
       "      <th>PartyID</th>\n",
       "      <th>DealerID</th>\n",
       "      <th>DealerTraderID</th>\n",
       "      <th>CustomerTraderID</th>\n",
       "      <th>CustomerID</th>\n",
       "      <th>PartyIDSource</th>\n",
       "      <th>PartyRole</th>\n",
       "      <th>DealerCount</th>\n",
       "      <th>OrdSubType</th>\n",
       "    </tr>\n",
       "  </thead>\n",
       "  <tbody>\n",
       "    <tr>\n",
       "      <th>0</th>\n",
       "      <td>1</td>\n",
       "      <td>135087L93</td>\n",
       "      <td>WI</td>\n",
       "      <td>NaN</td>\n",
       "      <td>1</td>\n",
       "      <td>BOND</td>\n",
       "      <td>9/1/2026</td>\n",
       "      <td>4/16/2021 0:00</td>\n",
       "      <td>BUY</td>\n",
       "      <td>2400000</td>\n",
       "      <td>...</td>\n",
       "      <td>1</td>\n",
       "      <td>1</td>\n",
       "      <td>334</td>\n",
       "      <td>10792.0</td>\n",
       "      <td>6549</td>\n",
       "      <td>129</td>\n",
       "      <td>D</td>\n",
       "      <td>13</td>\n",
       "      <td>5</td>\n",
       "      <td>OUTRIGHT</td>\n",
       "    </tr>\n",
       "    <tr>\n",
       "      <th>1</th>\n",
       "      <td>1</td>\n",
       "      <td>135087L93</td>\n",
       "      <td>WI</td>\n",
       "      <td>NaN</td>\n",
       "      <td>1</td>\n",
       "      <td>BOND</td>\n",
       "      <td>9/1/2026</td>\n",
       "      <td>4/16/2021 0:00</td>\n",
       "      <td>BUY</td>\n",
       "      <td>2400000</td>\n",
       "      <td>...</td>\n",
       "      <td>1</td>\n",
       "      <td>1</td>\n",
       "      <td>335</td>\n",
       "      <td>117793.0</td>\n",
       "      <td>6549</td>\n",
       "      <td>129</td>\n",
       "      <td>D</td>\n",
       "      <td>13</td>\n",
       "      <td>5</td>\n",
       "      <td>OUTRIGHT</td>\n",
       "    </tr>\n",
       "    <tr>\n",
       "      <th>2</th>\n",
       "      <td>1</td>\n",
       "      <td>135087L93</td>\n",
       "      <td>WI</td>\n",
       "      <td>NaN</td>\n",
       "      <td>1</td>\n",
       "      <td>BOND</td>\n",
       "      <td>9/1/2026</td>\n",
       "      <td>4/16/2021 0:00</td>\n",
       "      <td>BUY</td>\n",
       "      <td>2400000</td>\n",
       "      <td>...</td>\n",
       "      <td>1</td>\n",
       "      <td>1</td>\n",
       "      <td>325</td>\n",
       "      <td>119290.0</td>\n",
       "      <td>6549</td>\n",
       "      <td>129</td>\n",
       "      <td>D</td>\n",
       "      <td>13</td>\n",
       "      <td>5</td>\n",
       "      <td>OUTRIGHT</td>\n",
       "    </tr>\n",
       "    <tr>\n",
       "      <th>3</th>\n",
       "      <td>1</td>\n",
       "      <td>135087L93</td>\n",
       "      <td>WI</td>\n",
       "      <td>NaN</td>\n",
       "      <td>1</td>\n",
       "      <td>BOND</td>\n",
       "      <td>9/1/2026</td>\n",
       "      <td>4/16/2021 0:00</td>\n",
       "      <td>BUY</td>\n",
       "      <td>2400000</td>\n",
       "      <td>...</td>\n",
       "      <td>1</td>\n",
       "      <td>1</td>\n",
       "      <td>327</td>\n",
       "      <td>113852.0</td>\n",
       "      <td>6549</td>\n",
       "      <td>129</td>\n",
       "      <td>D</td>\n",
       "      <td>13</td>\n",
       "      <td>5</td>\n",
       "      <td>OUTRIGHT</td>\n",
       "    </tr>\n",
       "    <tr>\n",
       "      <th>4</th>\n",
       "      <td>1</td>\n",
       "      <td>135087L93</td>\n",
       "      <td>WI</td>\n",
       "      <td>NaN</td>\n",
       "      <td>1</td>\n",
       "      <td>BOND</td>\n",
       "      <td>9/1/2026</td>\n",
       "      <td>4/16/2021 0:00</td>\n",
       "      <td>BUY</td>\n",
       "      <td>2400000</td>\n",
       "      <td>...</td>\n",
       "      <td>1</td>\n",
       "      <td>1</td>\n",
       "      <td>337</td>\n",
       "      <td>117795.0</td>\n",
       "      <td>6549</td>\n",
       "      <td>129</td>\n",
       "      <td>D</td>\n",
       "      <td>13</td>\n",
       "      <td>5</td>\n",
       "      <td>OUTRIGHT</td>\n",
       "    </tr>\n",
       "    <tr>\n",
       "      <th>5</th>\n",
       "      <td>1</td>\n",
       "      <td>135087M76</td>\n",
       "      <td>WI</td>\n",
       "      <td>NaN</td>\n",
       "      <td>1</td>\n",
       "      <td>BOND</td>\n",
       "      <td>11/1/2023</td>\n",
       "      <td>8/9/2021 0:00</td>\n",
       "      <td>SELL</td>\n",
       "      <td>15000000</td>\n",
       "      <td>...</td>\n",
       "      <td>1</td>\n",
       "      <td>1</td>\n",
       "      <td>325</td>\n",
       "      <td>119752.0</td>\n",
       "      <td>7019</td>\n",
       "      <td>277</td>\n",
       "      <td>D</td>\n",
       "      <td>13</td>\n",
       "      <td>4</td>\n",
       "      <td>OUTRIGHT</td>\n",
       "    </tr>\n",
       "    <tr>\n",
       "      <th>6</th>\n",
       "      <td>1</td>\n",
       "      <td>135087M76</td>\n",
       "      <td>WI</td>\n",
       "      <td>NaN</td>\n",
       "      <td>1</td>\n",
       "      <td>BOND</td>\n",
       "      <td>11/1/2023</td>\n",
       "      <td>8/9/2021 0:00</td>\n",
       "      <td>SELL</td>\n",
       "      <td>15000000</td>\n",
       "      <td>...</td>\n",
       "      <td>1</td>\n",
       "      <td>1</td>\n",
       "      <td>336</td>\n",
       "      <td>117794.0</td>\n",
       "      <td>7019</td>\n",
       "      <td>277</td>\n",
       "      <td>D</td>\n",
       "      <td>13</td>\n",
       "      <td>4</td>\n",
       "      <td>OUTRIGHT</td>\n",
       "    </tr>\n",
       "    <tr>\n",
       "      <th>7</th>\n",
       "      <td>1</td>\n",
       "      <td>135087M76</td>\n",
       "      <td>WI</td>\n",
       "      <td>NaN</td>\n",
       "      <td>1</td>\n",
       "      <td>BOND</td>\n",
       "      <td>11/1/2023</td>\n",
       "      <td>8/9/2021 0:00</td>\n",
       "      <td>SELL</td>\n",
       "      <td>15000000</td>\n",
       "      <td>...</td>\n",
       "      <td>1</td>\n",
       "      <td>1</td>\n",
       "      <td>323</td>\n",
       "      <td>117786.0</td>\n",
       "      <td>7019</td>\n",
       "      <td>277</td>\n",
       "      <td>D</td>\n",
       "      <td>13</td>\n",
       "      <td>4</td>\n",
       "      <td>OUTRIGHT</td>\n",
       "    </tr>\n",
       "    <tr>\n",
       "      <th>8</th>\n",
       "      <td>1</td>\n",
       "      <td>135087M76</td>\n",
       "      <td>WI</td>\n",
       "      <td>NaN</td>\n",
       "      <td>1</td>\n",
       "      <td>BOND</td>\n",
       "      <td>11/1/2023</td>\n",
       "      <td>8/9/2021 0:00</td>\n",
       "      <td>SELL</td>\n",
       "      <td>15000000</td>\n",
       "      <td>...</td>\n",
       "      <td>1</td>\n",
       "      <td>1</td>\n",
       "      <td>337</td>\n",
       "      <td>117795.0</td>\n",
       "      <td>7019</td>\n",
       "      <td>277</td>\n",
       "      <td>D</td>\n",
       "      <td>13</td>\n",
       "      <td>4</td>\n",
       "      <td>OUTRIGHT</td>\n",
       "    </tr>\n",
       "    <tr>\n",
       "      <th>9</th>\n",
       "      <td>1</td>\n",
       "      <td>135087L93</td>\n",
       "      <td>WI</td>\n",
       "      <td>NaN</td>\n",
       "      <td>1</td>\n",
       "      <td>BOND</td>\n",
       "      <td>9/1/2026</td>\n",
       "      <td>4/16/2021 0:00</td>\n",
       "      <td>SELL</td>\n",
       "      <td>600000</td>\n",
       "      <td>...</td>\n",
       "      <td>1</td>\n",
       "      <td>1</td>\n",
       "      <td>335</td>\n",
       "      <td>117793.0</td>\n",
       "      <td>11532</td>\n",
       "      <td>177</td>\n",
       "      <td>D</td>\n",
       "      <td>13</td>\n",
       "      <td>4</td>\n",
       "      <td>OUTRIGHT</td>\n",
       "    </tr>\n",
       "  </tbody>\n",
       "</table>\n",
       "<p>10 rows × 27 columns</p>\n",
       "</div>"
      ],
      "text/plain": [
       "   NoRelatedSym     Symbol SymbolSfx  SecurityID  SecurityIDSource  \\\n",
       "0             1  135087L93        WI         NaN                 1   \n",
       "1             1  135087L93        WI         NaN                 1   \n",
       "2             1  135087L93        WI         NaN                 1   \n",
       "3             1  135087L93        WI         NaN                 1   \n",
       "4             1  135087L93        WI         NaN                 1   \n",
       "5             1  135087M76        WI         NaN                 1   \n",
       "6             1  135087M76        WI         NaN                 1   \n",
       "7             1  135087M76        WI         NaN                 1   \n",
       "8             1  135087M76        WI         NaN                 1   \n",
       "9             1  135087L93        WI         NaN                 1   \n",
       "\n",
       "  SecurityType MaturityDate       IssueDate  Side  OrderQty  ... NoPartIDs  \\\n",
       "0         BOND     9/1/2026  4/16/2021 0:00   BUY   2400000  ...         1   \n",
       "1         BOND     9/1/2026  4/16/2021 0:00   BUY   2400000  ...         1   \n",
       "2         BOND     9/1/2026  4/16/2021 0:00   BUY   2400000  ...         1   \n",
       "3         BOND     9/1/2026  4/16/2021 0:00   BUY   2400000  ...         1   \n",
       "4         BOND     9/1/2026  4/16/2021 0:00   BUY   2400000  ...         1   \n",
       "5         BOND    11/1/2023   8/9/2021 0:00  SELL  15000000  ...         1   \n",
       "6         BOND    11/1/2023   8/9/2021 0:00  SELL  15000000  ...         1   \n",
       "7         BOND    11/1/2023   8/9/2021 0:00  SELL  15000000  ...         1   \n",
       "8         BOND    11/1/2023   8/9/2021 0:00  SELL  15000000  ...         1   \n",
       "9         BOND     9/1/2026  4/16/2021 0:00  SELL    600000  ...         1   \n",
       "\n",
       "  PartyID  DealerID DealerTraderID  CustomerTraderID  CustomerID  \\\n",
       "0       1       334        10792.0              6549         129   \n",
       "1       1       335       117793.0              6549         129   \n",
       "2       1       325       119290.0              6549         129   \n",
       "3       1       327       113852.0              6549         129   \n",
       "4       1       337       117795.0              6549         129   \n",
       "5       1       325       119752.0              7019         277   \n",
       "6       1       336       117794.0              7019         277   \n",
       "7       1       323       117786.0              7019         277   \n",
       "8       1       337       117795.0              7019         277   \n",
       "9       1       335       117793.0             11532         177   \n",
       "\n",
       "   PartyIDSource  PartyRole  DealerCount  OrdSubType  \n",
       "0              D         13            5    OUTRIGHT  \n",
       "1              D         13            5    OUTRIGHT  \n",
       "2              D         13            5    OUTRIGHT  \n",
       "3              D         13            5    OUTRIGHT  \n",
       "4              D         13            5    OUTRIGHT  \n",
       "5              D         13            4    OUTRIGHT  \n",
       "6              D         13            4    OUTRIGHT  \n",
       "7              D         13            4    OUTRIGHT  \n",
       "8              D         13            4    OUTRIGHT  \n",
       "9              D         13            4    OUTRIGHT  \n",
       "\n",
       "[10 rows x 27 columns]"
      ]
     },
     "execution_count": 1,
     "metadata": {},
     "output_type": "execute_result"
    }
   ],
   "source": [
    "import pandas as pd\n",
    "\n",
    "url_dataset = \"https://raw.githubusercontent.com/evassev/CS6501_SEM2_2022/main/Etivities/data/trade_combined.csv\"\n",
    "df = pd.read_csv(url_dataset)\n",
    "\n",
    "df.head(10)"
   ]
  },
  {
   "cell_type": "markdown",
   "id": "a2788722",
   "metadata": {},
   "source": [
    "# Step 1: Determine the ML Model: Supervised-Classification, Supervised-Regression, or Unsupervised ML Model"
   ]
  },
  {
   "cell_type": "markdown",
   "id": "b7ad3798",
   "metadata": {},
   "source": [
    "The best way to find the most suitable ML model is to look at the dependent variable in question. In this example, the y variable is continous, we are looking to predict this variable using a list of x independent variables. I will use a linear regression ML model to be used to predict the price of a bond. Regression is a supervised ML technique primarily used to predict a continuous y variable from x independent variables, making it perfect for price predictions."
   ]
  },
  {
   "cell_type": "markdown",
   "id": "cca74de4",
   "metadata": {},
   "source": [
    "# Step 2: Data Preprocessing\n",
    "\n",
    "\n",
    "\n",
    "\n",
    "## Step 2.1: Specifics of the dataset\n",
    "\n",
    "### Shape of dataset"
   ]
  },
  {
   "cell_type": "code",
   "execution_count": 2,
   "id": "8ac4a232",
   "metadata": {},
   "outputs": [
    {
     "name": "stdout",
     "output_type": "stream",
     "text": [
      "Dataset Shape: 20000 tuples and 27 variables\n"
     ]
    }
   ],
   "source": [
    "print(\"Dataset Shape: %d tuples and %d variables\" % (df.shape[0], df.shape[1]))"
   ]
  },
  {
   "cell_type": "markdown",
   "id": "3fee4e97",
   "metadata": {},
   "source": [
    "There are 20,000 tuples in the dataset, consisting of 27 variables. This is sufficient observations to use for an ML algorithm, with a training/validation set.\n",
    "\n",
    "\n",
    "### Data features"
   ]
  },
  {
   "cell_type": "code",
   "execution_count": 3,
   "id": "6604695b",
   "metadata": {
    "scrolled": true
   },
   "outputs": [
    {
     "data": {
      "text/plain": [
       "['NoRelatedSym',\n",
       " 'Symbol',\n",
       " 'SymbolSfx',\n",
       " 'SecurityID',\n",
       " 'SecurityIDSource',\n",
       " 'SecurityType',\n",
       " 'MaturityDate',\n",
       " 'IssueDate',\n",
       " 'Side',\n",
       " 'OrderQty',\n",
       " 'SettlDate',\n",
       " 'Currency',\n",
       " 'OrdType',\n",
       " 'TransactTime',\n",
       " 'Price',\n",
       " 'PriceType',\n",
       " 'Yield',\n",
       " 'NoPartIDs',\n",
       " 'PartyID',\n",
       " 'DealerID',\n",
       " 'DealerTraderID',\n",
       " 'CustomerTraderID',\n",
       " 'CustomerID',\n",
       " 'PartyIDSource',\n",
       " 'PartyRole',\n",
       " 'DealerCount',\n",
       " 'OrdSubType']"
      ]
     },
     "execution_count": 3,
     "metadata": {},
     "output_type": "execute_result"
    }
   ],
   "source": [
    "list(df.columns.values)"
   ]
  },
  {
   "cell_type": "code",
   "execution_count": 4,
   "id": "67b1f30f",
   "metadata": {
    "scrolled": true
   },
   "outputs": [
    {
     "data": {
      "text/plain": [
       "NoRelatedSym          int64\n",
       "Symbol               object\n",
       "SymbolSfx            object\n",
       "SecurityID          float64\n",
       "SecurityIDSource      int64\n",
       "SecurityType         object\n",
       "MaturityDate         object\n",
       "IssueDate            object\n",
       "Side                 object\n",
       "OrderQty              int64\n",
       "SettlDate            object\n",
       "Currency             object\n",
       "OrdType               int64\n",
       "TransactTime         object\n",
       "Price               float64\n",
       "PriceType             int64\n",
       "Yield               float64\n",
       "NoPartIDs             int64\n",
       "PartyID               int64\n",
       "DealerID              int64\n",
       "DealerTraderID      float64\n",
       "CustomerTraderID      int64\n",
       "CustomerID            int64\n",
       "PartyIDSource        object\n",
       "PartyRole             int64\n",
       "DealerCount           int64\n",
       "OrdSubType           object\n",
       "dtype: object"
      ]
     },
     "execution_count": 4,
     "metadata": {},
     "output_type": "execute_result"
    }
   ],
   "source": [
    "df.dtypes"
   ]
  },
  {
   "cell_type": "markdown",
   "id": "a9178773",
   "metadata": {},
   "source": [
    "### The Dependent Variable - Price"
   ]
  },
  {
   "cell_type": "code",
   "execution_count": 5,
   "id": "6d083099",
   "metadata": {},
   "outputs": [
    {
     "data": {
      "text/plain": [
       "count    18692.000000\n",
       "mean       107.535666\n",
       "std         14.445474\n",
       "min          0.000000\n",
       "25%         99.749750\n",
       "50%        103.324500\n",
       "75%        110.360500\n",
       "max        174.278000\n",
       "Name: Price, dtype: float64"
      ]
     },
     "execution_count": 5,
     "metadata": {},
     "output_type": "execute_result"
    }
   ],
   "source": [
    "df['Price'].describe()"
   ]
  },
  {
   "cell_type": "code",
   "execution_count": 6,
   "id": "ace7acbb",
   "metadata": {},
   "outputs": [
    {
     "data": {
      "text/plain": [
       "<AxesSubplot:ylabel='Density'>"
      ]
     },
     "execution_count": 6,
     "metadata": {},
     "output_type": "execute_result"
    },
    {
     "data": {
      "image/png": "[encoded data removed]",
      "text/plain": [
       "<Figure size 432x288 with 1 Axes>"
      ]
     },
     "metadata": {
      "needs_background": "light"
     },
     "output_type": "display_data"
    }
   ],
   "source": [
    "df['Price'].plot.density()"
   ]
  },
  {
   "cell_type": "markdown",
   "id": "4ad2fc77",
   "metadata": {},
   "source": [
    "Looking at the density plot of price, the vast majority of bond prices hover around the $100 mark. There are little to no bonds less than $100 whereas there are a couple with values between $100 and $150."
   ]
  },
  {
   "cell_type": "markdown",
   "id": "86ef8954",
   "metadata": {},
   "source": [
    "## Step 2.2: Data Cleaning: Remove features with unique values for each row in the dataset"
   ]
  },
  {
   "cell_type": "code",
   "execution_count": 7,
   "id": "c4408ca5",
   "metadata": {},
   "outputs": [],
   "source": [
    "for column in df.columns:\n",
    "    uniqueValues = df[column].unique()\n",
    "    if len(uniqueValues) == len(df[column]):\n",
    "        print(\"Column \" + column + \" has all unique values\")"
   ]
  },
  {
   "cell_type": "markdown",
   "id": "7b56133b",
   "metadata": {},
   "source": [
    "This for loop creates no output, therefore there are no variables with all unique values. No features are removed yet."
   ]
  },
  {
   "cell_type": "markdown",
   "id": "e3e37974",
   "metadata": {},
   "source": [
    "## Step 2.3: Data Cleaning: Remove features with one unique value for the entire dataset"
   ]
  },
  {
   "cell_type": "code",
   "execution_count": 8,
   "id": "fcf34378",
   "metadata": {},
   "outputs": [
    {
     "name": "stdout",
     "output_type": "stream",
     "text": [
      "Column NoRelatedSym has 1 unique value for the dataset\n",
      "Column SymbolSfx has 1 unique value for the dataset\n",
      "Column SecurityIDSource has 1 unique value for the dataset\n",
      "Column Currency has 1 unique value for the dataset\n",
      "Column OrdType has 1 unique value for the dataset\n",
      "Column PriceType has 1 unique value for the dataset\n",
      "Column NoPartIDs has 1 unique value for the dataset\n",
      "Column PartyID has 1 unique value for the dataset\n",
      "Column PartyIDSource has 1 unique value for the dataset\n",
      "Column PartyRole has 1 unique value for the dataset\n",
      "Column OrdSubType has 1 unique value for the dataset\n"
     ]
    }
   ],
   "source": [
    "for column in df.columns:\n",
    "    uniqueValues = df[column].unique()\n",
    "    if len(uniqueValues) == 1:\n",
    "        print(\"Column \" + column + \" has 1 unique value for the dataset\")"
   ]
  },
  {
   "cell_type": "markdown",
   "id": "6c9c45f7",
   "metadata": {},
   "source": [
    "Now there is 11 features that have to be removed due to having only one unique value for the entire dataset."
   ]
  },
  {
   "cell_type": "code",
   "execution_count": 9,
   "id": "6d3529fc",
   "metadata": {},
   "outputs": [
    {
     "name": "stdout",
     "output_type": "stream",
     "text": [
      "Column NoRelatedSym has been removed from the dataset\n",
      "Column SymbolSfx has been removed from the dataset\n",
      "Column SecurityIDSource has been removed from the dataset\n",
      "Column Currency has been removed from the dataset\n",
      "Column OrdType has been removed from the dataset\n",
      "Column PriceType has been removed from the dataset\n",
      "Column NoPartIDs has been removed from the dataset\n",
      "Column PartyID has been removed from the dataset\n",
      "Column PartyIDSource has been removed from the dataset\n",
      "Column PartyRole has been removed from the dataset\n",
      "Column OrdSubType has been removed from the dataset\n"
     ]
    }
   ],
   "source": [
    "for column in df.columns:\n",
    "    uniqueValues = df[column].unique()\n",
    "    if len(uniqueValues) == 1:\n",
    "        df.drop(column, axis=1, inplace=True)\n",
    "        print(\"Column \" + column + \" has been removed from the dataset\")"
   ]
  },
  {
   "cell_type": "markdown",
   "id": "091a85d3",
   "metadata": {},
   "source": [
    "## Step 2.4: Data Cleaning: Remove records with null (NAN) values"
   ]
  },
  {
   "cell_type": "code",
   "execution_count": 10,
   "id": "a544d7c3",
   "metadata": {
    "scrolled": true
   },
   "outputs": [
    {
     "name": "stdout",
     "output_type": "stream",
     "text": [
      "Symbol                  0\n",
      "SecurityID          13959\n",
      "SecurityType            0\n",
      "MaturityDate            0\n",
      "IssueDate               0\n",
      "Side                    0\n",
      "OrderQty                0\n",
      "SettlDate               0\n",
      "TransactTime            0\n",
      "Price                1308\n",
      "Yield                1297\n",
      "DealerID                0\n",
      "DealerTraderID       1055\n",
      "CustomerTraderID        0\n",
      "CustomerID              0\n",
      "DealerCount             0\n",
      "dtype: int64\n"
     ]
    }
   ],
   "source": [
    "print(df.isnull().sum())"
   ]
  },
  {
   "cell_type": "markdown",
   "id": "52d11251",
   "metadata": {},
   "source": [
    "Now that we have identified which features have null values present, we can remove the tuples featuring a null value. We should be left with no null values left in any of the columns."
   ]
  },
  {
   "cell_type": "code",
   "execution_count": 11,
   "id": "dd777a56",
   "metadata": {},
   "outputs": [
    {
     "name": "stdout",
     "output_type": "stream",
     "text": [
      "Symbol              0\n",
      "SecurityID          0\n",
      "SecurityType        0\n",
      "MaturityDate        0\n",
      "IssueDate           0\n",
      "Side                0\n",
      "OrderQty            0\n",
      "SettlDate           0\n",
      "TransactTime        0\n",
      "Price               0\n",
      "Yield               0\n",
      "DealerID            0\n",
      "DealerTraderID      0\n",
      "CustomerTraderID    0\n",
      "CustomerID          0\n",
      "DealerCount         0\n",
      "dtype: int64\n"
     ]
    }
   ],
   "source": [
    "df = df.dropna()\n",
    "print(df.isnull().sum())"
   ]
  },
  {
   "cell_type": "markdown",
   "id": "88e4a35e",
   "metadata": {},
   "source": [
    "## Step 2.5: Data Transformation: Convert all non-numeric features to numeric"
   ]
  },
  {
   "cell_type": "code",
   "execution_count": 12,
   "id": "45d2900f",
   "metadata": {},
   "outputs": [
    {
     "data": {
      "text/html": [
       "<div>\n",
       "<style scoped>\n",
       "    .dataframe tbody tr th:only-of-type {\n",
       "        vertical-align: middle;\n",
       "    }\n",
       "\n",
       "    .dataframe tbody tr th {\n",
       "        vertical-align: top;\n",
       "    }\n",
       "\n",
       "    .dataframe thead th {\n",
       "        text-align: right;\n",
       "    }\n",
       "</style>\n",
       "<table border=\"1\" class=\"dataframe\">\n",
       "  <thead>\n",
       "    <tr style=\"text-align: right;\">\n",
       "      <th></th>\n",
       "      <th>Symbol</th>\n",
       "      <th>SecurityID</th>\n",
       "      <th>SecurityType</th>\n",
       "      <th>MaturityDate</th>\n",
       "      <th>IssueDate</th>\n",
       "      <th>Side</th>\n",
       "      <th>OrderQty</th>\n",
       "      <th>SettlDate</th>\n",
       "      <th>TransactTime</th>\n",
       "      <th>Price</th>\n",
       "      <th>Yield</th>\n",
       "      <th>DealerID</th>\n",
       "      <th>DealerTraderID</th>\n",
       "      <th>CustomerTraderID</th>\n",
       "      <th>CustomerID</th>\n",
       "      <th>DealerCount</th>\n",
       "    </tr>\n",
       "  </thead>\n",
       "  <tbody>\n",
       "    <tr>\n",
       "      <th>6204</th>\n",
       "      <td>135087D35</td>\n",
       "      <td>1657312.0</td>\n",
       "      <td>GOC</td>\n",
       "      <td>12/1/2048</td>\n",
       "      <td>6/2/2014 0:00</td>\n",
       "      <td>BUY</td>\n",
       "      <td>1000000</td>\n",
       "      <td>6/20/2018</td>\n",
       "      <td>14:39:50</td>\n",
       "      <td>111.140</td>\n",
       "      <td>2.243</td>\n",
       "      <td>334</td>\n",
       "      <td>113683.0</td>\n",
       "      <td>11570</td>\n",
       "      <td>454</td>\n",
       "      <td>4</td>\n",
       "    </tr>\n",
       "    <tr>\n",
       "      <th>6205</th>\n",
       "      <td>135087D35</td>\n",
       "      <td>1657312.0</td>\n",
       "      <td>GOC</td>\n",
       "      <td>12/1/2048</td>\n",
       "      <td>6/2/2014 0:00</td>\n",
       "      <td>BUY</td>\n",
       "      <td>1000000</td>\n",
       "      <td>6/20/2018</td>\n",
       "      <td>14:39:50</td>\n",
       "      <td>111.220</td>\n",
       "      <td>2.240</td>\n",
       "      <td>335</td>\n",
       "      <td>114347.0</td>\n",
       "      <td>11570</td>\n",
       "      <td>454</td>\n",
       "      <td>4</td>\n",
       "    </tr>\n",
       "    <tr>\n",
       "      <th>6206</th>\n",
       "      <td>135087H80</td>\n",
       "      <td>1657313.0</td>\n",
       "      <td>GOC</td>\n",
       "      <td>5/1/2020</td>\n",
       "      <td>2/9/2018 0:00</td>\n",
       "      <td>SELL</td>\n",
       "      <td>5000000</td>\n",
       "      <td>6/20/2018</td>\n",
       "      <td>14:40:12</td>\n",
       "      <td>99.760</td>\n",
       "      <td>1.881</td>\n",
       "      <td>323</td>\n",
       "      <td>118599.0</td>\n",
       "      <td>6753</td>\n",
       "      <td>204</td>\n",
       "      <td>1</td>\n",
       "    </tr>\n",
       "    <tr>\n",
       "      <th>6207</th>\n",
       "      <td>135087D35</td>\n",
       "      <td>1657317.0</td>\n",
       "      <td>GOC</td>\n",
       "      <td>12/1/2048</td>\n",
       "      <td>6/2/2014 0:00</td>\n",
       "      <td>BUY</td>\n",
       "      <td>1250000</td>\n",
       "      <td>6/20/2018</td>\n",
       "      <td>14:41:05</td>\n",
       "      <td>111.198</td>\n",
       "      <td>2.241</td>\n",
       "      <td>321</td>\n",
       "      <td>7177.0</td>\n",
       "      <td>6687</td>\n",
       "      <td>178</td>\n",
       "      <td>4</td>\n",
       "    </tr>\n",
       "    <tr>\n",
       "      <th>6208</th>\n",
       "      <td>135087D35</td>\n",
       "      <td>1657317.0</td>\n",
       "      <td>GOC</td>\n",
       "      <td>12/1/2048</td>\n",
       "      <td>6/2/2014 0:00</td>\n",
       "      <td>BUY</td>\n",
       "      <td>1250000</td>\n",
       "      <td>6/20/2018</td>\n",
       "      <td>14:41:05</td>\n",
       "      <td>111.130</td>\n",
       "      <td>2.244</td>\n",
       "      <td>327</td>\n",
       "      <td>7687.0</td>\n",
       "      <td>6687</td>\n",
       "      <td>178</td>\n",
       "      <td>4</td>\n",
       "    </tr>\n",
       "  </tbody>\n",
       "</table>\n",
       "</div>"
      ],
      "text/plain": [
       "         Symbol  SecurityID SecurityType MaturityDate      IssueDate  Side  \\\n",
       "6204  135087D35   1657312.0          GOC    12/1/2048  6/2/2014 0:00   BUY   \n",
       "6205  135087D35   1657312.0          GOC    12/1/2048  6/2/2014 0:00   BUY   \n",
       "6206  135087H80   1657313.0          GOC     5/1/2020  2/9/2018 0:00  SELL   \n",
       "6207  135087D35   1657317.0          GOC    12/1/2048  6/2/2014 0:00   BUY   \n",
       "6208  135087D35   1657317.0          GOC    12/1/2048  6/2/2014 0:00   BUY   \n",
       "\n",
       "      OrderQty  SettlDate TransactTime    Price  Yield  DealerID  \\\n",
       "6204   1000000  6/20/2018     14:39:50  111.140  2.243       334   \n",
       "6205   1000000  6/20/2018     14:39:50  111.220  2.240       335   \n",
       "6206   5000000  6/20/2018     14:40:12   99.760  1.881       323   \n",
       "6207   1250000  6/20/2018     14:41:05  111.198  2.241       321   \n",
       "6208   1250000  6/20/2018     14:41:05  111.130  2.244       327   \n",
       "\n",
       "      DealerTraderID  CustomerTraderID  CustomerID  DealerCount  \n",
       "6204        113683.0             11570         454            4  \n",
       "6205        114347.0             11570         454            4  \n",
       "6206        118599.0              6753         204            1  \n",
       "6207          7177.0              6687         178            4  \n",
       "6208          7687.0              6687         178            4  "
      ]
     },
     "execution_count": 12,
     "metadata": {},
     "output_type": "execute_result"
    }
   ],
   "source": [
    "df.head()"
   ]
  },
  {
   "cell_type": "code",
   "execution_count": 13,
   "id": "2f9412e6",
   "metadata": {},
   "outputs": [
    {
     "name": "stdout",
     "output_type": "stream",
     "text": [
      "['Symbol', 'SecurityType', 'MaturityDate', 'IssueDate', 'Side', 'SettlDate', 'TransactTime']\n"
     ]
    }
   ],
   "source": [
    "import numpy as np\n",
    "non_numeric = df.select_dtypes(exclude=np.number).columns.tolist()\n",
    "print(non_numeric)"
   ]
  },
  {
   "cell_type": "markdown",
   "id": "73e7434d",
   "metadata": {},
   "source": [
    "In order to use our ML model, we have to remove or convert the above features to numeric. There are any ways we can achieve this."
   ]
  },
  {
   "cell_type": "code",
   "execution_count": 14,
   "id": "b7ff5993",
   "metadata": {},
   "outputs": [
    {
     "data": {
      "text/plain": [
       "count          5685\n",
       "unique          304\n",
       "top       135087ZS6\n",
       "freq            250\n",
       "Name: Symbol, dtype: object"
      ]
     },
     "execution_count": 14,
     "metadata": {},
     "output_type": "execute_result"
    }
   ],
   "source": [
    "df['Symbol'].describe()"
   ]
  },
  {
   "cell_type": "markdown",
   "id": "137805d4",
   "metadata": {},
   "source": [
    "The Symbol feature can be dropped as it is equal to the security ID feature, which is already in numeric format."
   ]
  },
  {
   "cell_type": "code",
   "execution_count": 15,
   "id": "390b00dc",
   "metadata": {},
   "outputs": [
    {
     "data": {
      "text/html": [
       "<div>\n",
       "<style scoped>\n",
       "    .dataframe tbody tr th:only-of-type {\n",
       "        vertical-align: middle;\n",
       "    }\n",
       "\n",
       "    .dataframe tbody tr th {\n",
       "        vertical-align: top;\n",
       "    }\n",
       "\n",
       "    .dataframe thead th {\n",
       "        text-align: right;\n",
       "    }\n",
       "</style>\n",
       "<table border=\"1\" class=\"dataframe\">\n",
       "  <thead>\n",
       "    <tr style=\"text-align: right;\">\n",
       "      <th></th>\n",
       "      <th>SecurityID</th>\n",
       "      <th>SecurityType</th>\n",
       "      <th>MaturityDate</th>\n",
       "      <th>IssueDate</th>\n",
       "      <th>Side</th>\n",
       "      <th>OrderQty</th>\n",
       "      <th>SettlDate</th>\n",
       "      <th>TransactTime</th>\n",
       "      <th>Price</th>\n",
       "      <th>Yield</th>\n",
       "      <th>DealerID</th>\n",
       "      <th>DealerTraderID</th>\n",
       "      <th>CustomerTraderID</th>\n",
       "      <th>CustomerID</th>\n",
       "      <th>DealerCount</th>\n",
       "    </tr>\n",
       "  </thead>\n",
       "  <tbody>\n",
       "    <tr>\n",
       "      <th>6204</th>\n",
       "      <td>1657312.0</td>\n",
       "      <td>GOC</td>\n",
       "      <td>12/1/2048</td>\n",
       "      <td>6/2/2014 0:00</td>\n",
       "      <td>BUY</td>\n",
       "      <td>1000000</td>\n",
       "      <td>6/20/2018</td>\n",
       "      <td>14:39:50</td>\n",
       "      <td>111.140</td>\n",
       "      <td>2.243</td>\n",
       "      <td>334</td>\n",
       "      <td>113683.0</td>\n",
       "      <td>11570</td>\n",
       "      <td>454</td>\n",
       "      <td>4</td>\n",
       "    </tr>\n",
       "    <tr>\n",
       "      <th>6205</th>\n",
       "      <td>1657312.0</td>\n",
       "      <td>GOC</td>\n",
       "      <td>12/1/2048</td>\n",
       "      <td>6/2/2014 0:00</td>\n",
       "      <td>BUY</td>\n",
       "      <td>1000000</td>\n",
       "      <td>6/20/2018</td>\n",
       "      <td>14:39:50</td>\n",
       "      <td>111.220</td>\n",
       "      <td>2.240</td>\n",
       "      <td>335</td>\n",
       "      <td>114347.0</td>\n",
       "      <td>11570</td>\n",
       "      <td>454</td>\n",
       "      <td>4</td>\n",
       "    </tr>\n",
       "    <tr>\n",
       "      <th>6206</th>\n",
       "      <td>1657313.0</td>\n",
       "      <td>GOC</td>\n",
       "      <td>5/1/2020</td>\n",
       "      <td>2/9/2018 0:00</td>\n",
       "      <td>SELL</td>\n",
       "      <td>5000000</td>\n",
       "      <td>6/20/2018</td>\n",
       "      <td>14:40:12</td>\n",
       "      <td>99.760</td>\n",
       "      <td>1.881</td>\n",
       "      <td>323</td>\n",
       "      <td>118599.0</td>\n",
       "      <td>6753</td>\n",
       "      <td>204</td>\n",
       "      <td>1</td>\n",
       "    </tr>\n",
       "    <tr>\n",
       "      <th>6207</th>\n",
       "      <td>1657317.0</td>\n",
       "      <td>GOC</td>\n",
       "      <td>12/1/2048</td>\n",
       "      <td>6/2/2014 0:00</td>\n",
       "      <td>BUY</td>\n",
       "      <td>1250000</td>\n",
       "      <td>6/20/2018</td>\n",
       "      <td>14:41:05</td>\n",
       "      <td>111.198</td>\n",
       "      <td>2.241</td>\n",
       "      <td>321</td>\n",
       "      <td>7177.0</td>\n",
       "      <td>6687</td>\n",
       "      <td>178</td>\n",
       "      <td>4</td>\n",
       "    </tr>\n",
       "    <tr>\n",
       "      <th>6208</th>\n",
       "      <td>1657317.0</td>\n",
       "      <td>GOC</td>\n",
       "      <td>12/1/2048</td>\n",
       "      <td>6/2/2014 0:00</td>\n",
       "      <td>BUY</td>\n",
       "      <td>1250000</td>\n",
       "      <td>6/20/2018</td>\n",
       "      <td>14:41:05</td>\n",
       "      <td>111.130</td>\n",
       "      <td>2.244</td>\n",
       "      <td>327</td>\n",
       "      <td>7687.0</td>\n",
       "      <td>6687</td>\n",
       "      <td>178</td>\n",
       "      <td>4</td>\n",
       "    </tr>\n",
       "  </tbody>\n",
       "</table>\n",
       "</div>"
      ],
      "text/plain": [
       "      SecurityID SecurityType MaturityDate      IssueDate  Side  OrderQty  \\\n",
       "6204   1657312.0          GOC    12/1/2048  6/2/2014 0:00   BUY   1000000   \n",
       "6205   1657312.0          GOC    12/1/2048  6/2/2014 0:00   BUY   1000000   \n",
       "6206   1657313.0          GOC     5/1/2020  2/9/2018 0:00  SELL   5000000   \n",
       "6207   1657317.0          GOC    12/1/2048  6/2/2014 0:00   BUY   1250000   \n",
       "6208   1657317.0          GOC    12/1/2048  6/2/2014 0:00   BUY   1250000   \n",
       "\n",
       "      SettlDate TransactTime    Price  Yield  DealerID  DealerTraderID  \\\n",
       "6204  6/20/2018     14:39:50  111.140  2.243       334        113683.0   \n",
       "6205  6/20/2018     14:39:50  111.220  2.240       335        114347.0   \n",
       "6206  6/20/2018     14:40:12   99.760  1.881       323        118599.0   \n",
       "6207  6/20/2018     14:41:05  111.198  2.241       321          7177.0   \n",
       "6208  6/20/2018     14:41:05  111.130  2.244       327          7687.0   \n",
       "\n",
       "      CustomerTraderID  CustomerID  DealerCount  \n",
       "6204             11570         454            4  \n",
       "6205             11570         454            4  \n",
       "6206              6753         204            1  \n",
       "6207              6687         178            4  \n",
       "6208              6687         178            4  "
      ]
     },
     "execution_count": 15,
     "metadata": {},
     "output_type": "execute_result"
    }
   ],
   "source": [
    "df.drop('Symbol', axis=1, inplace=True)\n",
    "df.head()"
   ]
  },
  {
   "cell_type": "code",
   "execution_count": 16,
   "id": "faef2def",
   "metadata": {},
   "outputs": [
    {
     "data": {
      "text/plain": [
       "count     5685\n",
       "unique       3\n",
       "top        GOC\n",
       "freq      3330\n",
       "Name: SecurityType, dtype: object"
      ]
     },
     "execution_count": 16,
     "metadata": {},
     "output_type": "execute_result"
    }
   ],
   "source": [
    "df['SecurityType'].describe()"
   ]
  },
  {
   "cell_type": "code",
   "execution_count": 17,
   "id": "f81d1044",
   "metadata": {},
   "outputs": [
    {
     "name": "stdout",
     "output_type": "stream",
     "text": [
      "['GOC' 'PROV' 'CMB']\n"
     ]
    }
   ],
   "source": [
    "security_type_values = df['SecurityType'].unique()\n",
    "print(security_type_values)"
   ]
  },
  {
   "cell_type": "markdown",
   "id": "d2551786",
   "metadata": {},
   "source": [
    "There are 3 different values for the Security Type feature, we can convert this to numeric by mapping each value to a number; 1, 2 and 3. The same method can also be used for the Side feature, which features two values; BUY or SELL."
   ]
  },
  {
   "cell_type": "code",
   "execution_count": 18,
   "id": "e72de3bc",
   "metadata": {},
   "outputs": [
    {
     "name": "stdout",
     "output_type": "stream",
     "text": [
      "[1 2 3]\n"
     ]
    }
   ],
   "source": [
    "class_mapper = {}\n",
    "num = 0\n",
    "for element in security_type_values:\n",
    "    num += 1\n",
    "    class_mapper[element] = num\n",
    "\n",
    "df['SecurityType'] = df['SecurityType'].replace(class_mapper)\n",
    "print(df['SecurityType'].unique())"
   ]
  },
  {
   "cell_type": "code",
   "execution_count": 19,
   "id": "6e1625a8",
   "metadata": {},
   "outputs": [
    {
     "name": "stdout",
     "output_type": "stream",
     "text": [
      "['BUY' 'SELL']\n"
     ]
    }
   ],
   "source": [
    "side_values = df['Side'].unique()\n",
    "print(side_values)"
   ]
  },
  {
   "cell_type": "code",
   "execution_count": 20,
   "id": "484cf7bf",
   "metadata": {},
   "outputs": [],
   "source": [
    "class_mapper = {}\n",
    "num = 0\n",
    "for element in side_values:\n",
    "    num += 1\n",
    "    class_mapper[element] = num\n",
    "\n",
    "df['Side'] = df['Side'].replace(class_mapper)"
   ]
  },
  {
   "cell_type": "markdown",
   "id": "22a33356",
   "metadata": {},
   "source": [
    "Now we must look at the date and time variables, which we can convert to numeric date/times by using the following code:"
   ]
  },
  {
   "cell_type": "code",
   "execution_count": 21,
   "id": "6916783b",
   "metadata": {
    "scrolled": true
   },
   "outputs": [
    {
     "data": {
      "text/html": [
       "<div>\n",
       "<style scoped>\n",
       "    .dataframe tbody tr th:only-of-type {\n",
       "        vertical-align: middle;\n",
       "    }\n",
       "\n",
       "    .dataframe tbody tr th {\n",
       "        vertical-align: top;\n",
       "    }\n",
       "\n",
       "    .dataframe thead th {\n",
       "        text-align: right;\n",
       "    }\n",
       "</style>\n",
       "<table border=\"1\" class=\"dataframe\">\n",
       "  <thead>\n",
       "    <tr style=\"text-align: right;\">\n",
       "      <th></th>\n",
       "      <th>SecurityID</th>\n",
       "      <th>SecurityType</th>\n",
       "      <th>MaturityDate</th>\n",
       "      <th>IssueDate</th>\n",
       "      <th>Side</th>\n",
       "      <th>OrderQty</th>\n",
       "      <th>SettlDate</th>\n",
       "      <th>TransactTime</th>\n",
       "      <th>Price</th>\n",
       "      <th>Yield</th>\n",
       "      <th>DealerID</th>\n",
       "      <th>DealerTraderID</th>\n",
       "      <th>CustomerTraderID</th>\n",
       "      <th>CustomerID</th>\n",
       "      <th>DealerCount</th>\n",
       "    </tr>\n",
       "  </thead>\n",
       "  <tbody>\n",
       "    <tr>\n",
       "      <th>6204</th>\n",
       "      <td>1657312.0</td>\n",
       "      <td>1</td>\n",
       "      <td>20481201</td>\n",
       "      <td>20140602</td>\n",
       "      <td>1</td>\n",
       "      <td>1000000</td>\n",
       "      <td>20180620</td>\n",
       "      <td>20221013</td>\n",
       "      <td>111.140</td>\n",
       "      <td>2.243</td>\n",
       "      <td>334</td>\n",
       "      <td>113683.0</td>\n",
       "      <td>11570</td>\n",
       "      <td>454</td>\n",
       "      <td>4</td>\n",
       "    </tr>\n",
       "    <tr>\n",
       "      <th>6205</th>\n",
       "      <td>1657312.0</td>\n",
       "      <td>1</td>\n",
       "      <td>20481201</td>\n",
       "      <td>20140602</td>\n",
       "      <td>1</td>\n",
       "      <td>1000000</td>\n",
       "      <td>20180620</td>\n",
       "      <td>20221013</td>\n",
       "      <td>111.220</td>\n",
       "      <td>2.240</td>\n",
       "      <td>335</td>\n",
       "      <td>114347.0</td>\n",
       "      <td>11570</td>\n",
       "      <td>454</td>\n",
       "      <td>4</td>\n",
       "    </tr>\n",
       "    <tr>\n",
       "      <th>6206</th>\n",
       "      <td>1657313.0</td>\n",
       "      <td>1</td>\n",
       "      <td>20200501</td>\n",
       "      <td>20180209</td>\n",
       "      <td>2</td>\n",
       "      <td>5000000</td>\n",
       "      <td>20180620</td>\n",
       "      <td>20221013</td>\n",
       "      <td>99.760</td>\n",
       "      <td>1.881</td>\n",
       "      <td>323</td>\n",
       "      <td>118599.0</td>\n",
       "      <td>6753</td>\n",
       "      <td>204</td>\n",
       "      <td>1</td>\n",
       "    </tr>\n",
       "    <tr>\n",
       "      <th>6207</th>\n",
       "      <td>1657317.0</td>\n",
       "      <td>1</td>\n",
       "      <td>20481201</td>\n",
       "      <td>20140602</td>\n",
       "      <td>1</td>\n",
       "      <td>1250000</td>\n",
       "      <td>20180620</td>\n",
       "      <td>20221013</td>\n",
       "      <td>111.198</td>\n",
       "      <td>2.241</td>\n",
       "      <td>321</td>\n",
       "      <td>7177.0</td>\n",
       "      <td>6687</td>\n",
       "      <td>178</td>\n",
       "      <td>4</td>\n",
       "    </tr>\n",
       "    <tr>\n",
       "      <th>6208</th>\n",
       "      <td>1657317.0</td>\n",
       "      <td>1</td>\n",
       "      <td>20481201</td>\n",
       "      <td>20140602</td>\n",
       "      <td>1</td>\n",
       "      <td>1250000</td>\n",
       "      <td>20180620</td>\n",
       "      <td>20221013</td>\n",
       "      <td>111.130</td>\n",
       "      <td>2.244</td>\n",
       "      <td>327</td>\n",
       "      <td>7687.0</td>\n",
       "      <td>6687</td>\n",
       "      <td>178</td>\n",
       "      <td>4</td>\n",
       "    </tr>\n",
       "    <tr>\n",
       "      <th>6209</th>\n",
       "      <td>1657317.0</td>\n",
       "      <td>1</td>\n",
       "      <td>20481201</td>\n",
       "      <td>20140602</td>\n",
       "      <td>1</td>\n",
       "      <td>1250000</td>\n",
       "      <td>20180620</td>\n",
       "      <td>20221013</td>\n",
       "      <td>111.190</td>\n",
       "      <td>2.241</td>\n",
       "      <td>334</td>\n",
       "      <td>113683.0</td>\n",
       "      <td>6687</td>\n",
       "      <td>178</td>\n",
       "      <td>4</td>\n",
       "    </tr>\n",
       "    <tr>\n",
       "      <th>6210</th>\n",
       "      <td>1657317.0</td>\n",
       "      <td>1</td>\n",
       "      <td>20481201</td>\n",
       "      <td>20140602</td>\n",
       "      <td>1</td>\n",
       "      <td>1250000</td>\n",
       "      <td>20180620</td>\n",
       "      <td>20221013</td>\n",
       "      <td>111.300</td>\n",
       "      <td>2.236</td>\n",
       "      <td>337</td>\n",
       "      <td>5168.0</td>\n",
       "      <td>6687</td>\n",
       "      <td>178</td>\n",
       "      <td>4</td>\n",
       "    </tr>\n",
       "    <tr>\n",
       "      <th>6211</th>\n",
       "      <td>1657324.0</td>\n",
       "      <td>1</td>\n",
       "      <td>20481201</td>\n",
       "      <td>20140602</td>\n",
       "      <td>1</td>\n",
       "      <td>1250000</td>\n",
       "      <td>20180620</td>\n",
       "      <td>20221013</td>\n",
       "      <td>111.180</td>\n",
       "      <td>2.241</td>\n",
       "      <td>321</td>\n",
       "      <td>7177.0</td>\n",
       "      <td>6687</td>\n",
       "      <td>178</td>\n",
       "      <td>4</td>\n",
       "    </tr>\n",
       "    <tr>\n",
       "      <th>6212</th>\n",
       "      <td>1657324.0</td>\n",
       "      <td>1</td>\n",
       "      <td>20481201</td>\n",
       "      <td>20140602</td>\n",
       "      <td>1</td>\n",
       "      <td>1250000</td>\n",
       "      <td>20180620</td>\n",
       "      <td>20221013</td>\n",
       "      <td>111.130</td>\n",
       "      <td>2.244</td>\n",
       "      <td>327</td>\n",
       "      <td>7687.0</td>\n",
       "      <td>6687</td>\n",
       "      <td>178</td>\n",
       "      <td>4</td>\n",
       "    </tr>\n",
       "    <tr>\n",
       "      <th>6213</th>\n",
       "      <td>1657324.0</td>\n",
       "      <td>1</td>\n",
       "      <td>20481201</td>\n",
       "      <td>20140602</td>\n",
       "      <td>1</td>\n",
       "      <td>1250000</td>\n",
       "      <td>20180620</td>\n",
       "      <td>20221013</td>\n",
       "      <td>111.150</td>\n",
       "      <td>2.243</td>\n",
       "      <td>334</td>\n",
       "      <td>113683.0</td>\n",
       "      <td>6687</td>\n",
       "      <td>178</td>\n",
       "      <td>4</td>\n",
       "    </tr>\n",
       "  </tbody>\n",
       "</table>\n",
       "</div>"
      ],
      "text/plain": [
       "      SecurityID  SecurityType  MaturityDate  IssueDate  Side  OrderQty  \\\n",
       "6204   1657312.0             1      20481201   20140602     1   1000000   \n",
       "6205   1657312.0             1      20481201   20140602     1   1000000   \n",
       "6206   1657313.0             1      20200501   20180209     2   5000000   \n",
       "6207   1657317.0             1      20481201   20140602     1   1250000   \n",
       "6208   1657317.0             1      20481201   20140602     1   1250000   \n",
       "6209   1657317.0             1      20481201   20140602     1   1250000   \n",
       "6210   1657317.0             1      20481201   20140602     1   1250000   \n",
       "6211   1657324.0             1      20481201   20140602     1   1250000   \n",
       "6212   1657324.0             1      20481201   20140602     1   1250000   \n",
       "6213   1657324.0             1      20481201   20140602     1   1250000   \n",
       "\n",
       "      SettlDate  TransactTime    Price  Yield  DealerID  DealerTraderID  \\\n",
       "6204   20180620      20221013  111.140  2.243       334        113683.0   \n",
       "6205   20180620      20221013  111.220  2.240       335        114347.0   \n",
       "6206   20180620      20221013   99.760  1.881       323        118599.0   \n",
       "6207   20180620      20221013  111.198  2.241       321          7177.0   \n",
       "6208   20180620      20221013  111.130  2.244       327          7687.0   \n",
       "6209   20180620      20221013  111.190  2.241       334        113683.0   \n",
       "6210   20180620      20221013  111.300  2.236       337          5168.0   \n",
       "6211   20180620      20221013  111.180  2.241       321          7177.0   \n",
       "6212   20180620      20221013  111.130  2.244       327          7687.0   \n",
       "6213   20180620      20221013  111.150  2.243       334        113683.0   \n",
       "\n",
       "      CustomerTraderID  CustomerID  DealerCount  \n",
       "6204             11570         454            4  \n",
       "6205             11570         454            4  \n",
       "6206              6753         204            1  \n",
       "6207              6687         178            4  \n",
       "6208              6687         178            4  \n",
       "6209              6687         178            4  \n",
       "6210              6687         178            4  \n",
       "6211              6687         178            4  \n",
       "6212              6687         178            4  \n",
       "6213              6687         178            4  "
      ]
     },
     "execution_count": 21,
     "metadata": {},
     "output_type": "execute_result"
    }
   ],
   "source": [
    "df['MaturityDate'] = pd.to_datetime(df['MaturityDate']).dt.strftime(\"%Y%m%d\").astype(int)\n",
    "df['IssueDate'] = pd.to_datetime(df['IssueDate']).dt.strftime(\"%Y%m%d\").astype(int)\n",
    "df['SettlDate'] = pd.to_datetime(df['SettlDate']).dt.strftime(\"%Y%m%d\").astype(int)\n",
    "df['TransactTime'] = pd.to_datetime(df['TransactTime']).dt.strftime(\"%Y%m%d\").astype(int)\n",
    "df.head(10)"
   ]
  },
  {
   "cell_type": "code",
   "execution_count": 22,
   "id": "6a743d7a",
   "metadata": {},
   "outputs": [
    {
     "name": "stdout",
     "output_type": "stream",
     "text": [
      "[]\n"
     ]
    }
   ],
   "source": [
    "non_numeric = df.select_dtypes(exclude=np.number).columns.tolist()\n",
    "print(non_numeric)"
   ]
  },
  {
   "cell_type": "markdown",
   "id": "bf1c5356",
   "metadata": {},
   "source": [
    "We are now left with a 100% numeric dataset which can be used to train and test our ML model."
   ]
  },
  {
   "cell_type": "markdown",
   "id": "1afb4ae0",
   "metadata": {},
   "source": [
    "# Step 3: Model Training and Testing"
   ]
  },
  {
   "cell_type": "code",
   "execution_count": 23,
   "id": "a3709a61",
   "metadata": {},
   "outputs": [
    {
     "data": {
      "text/plain": [
       "(5685, 15)"
      ]
     },
     "execution_count": 23,
     "metadata": {},
     "output_type": "execute_result"
    }
   ],
   "source": [
    "df.shape"
   ]
  },
  {
   "cell_type": "code",
   "execution_count": 24,
   "id": "1ef1f3f8",
   "metadata": {
    "scrolled": true
   },
   "outputs": [
    {
     "data": {
      "text/html": [
       "<div>\n",
       "<style scoped>\n",
       "    .dataframe tbody tr th:only-of-type {\n",
       "        vertical-align: middle;\n",
       "    }\n",
       "\n",
       "    .dataframe tbody tr th {\n",
       "        vertical-align: top;\n",
       "    }\n",
       "\n",
       "    .dataframe thead th {\n",
       "        text-align: right;\n",
       "    }\n",
       "</style>\n",
       "<table border=\"1\" class=\"dataframe\">\n",
       "  <thead>\n",
       "    <tr style=\"text-align: right;\">\n",
       "      <th></th>\n",
       "      <th>SecurityID</th>\n",
       "      <th>SecurityType</th>\n",
       "      <th>MaturityDate</th>\n",
       "      <th>IssueDate</th>\n",
       "      <th>Side</th>\n",
       "      <th>OrderQty</th>\n",
       "      <th>SettlDate</th>\n",
       "      <th>TransactTime</th>\n",
       "      <th>Price</th>\n",
       "      <th>Yield</th>\n",
       "      <th>DealerID</th>\n",
       "      <th>DealerTraderID</th>\n",
       "      <th>CustomerTraderID</th>\n",
       "      <th>CustomerID</th>\n",
       "      <th>DealerCount</th>\n",
       "    </tr>\n",
       "  </thead>\n",
       "  <tbody>\n",
       "    <tr>\n",
       "      <th>6204</th>\n",
       "      <td>1657312.0</td>\n",
       "      <td>1</td>\n",
       "      <td>20481201</td>\n",
       "      <td>20140602</td>\n",
       "      <td>1</td>\n",
       "      <td>1000000</td>\n",
       "      <td>20180620</td>\n",
       "      <td>20221013</td>\n",
       "      <td>111.140</td>\n",
       "      <td>2.243</td>\n",
       "      <td>334</td>\n",
       "      <td>113683.0</td>\n",
       "      <td>11570</td>\n",
       "      <td>454</td>\n",
       "      <td>4</td>\n",
       "    </tr>\n",
       "    <tr>\n",
       "      <th>6205</th>\n",
       "      <td>1657312.0</td>\n",
       "      <td>1</td>\n",
       "      <td>20481201</td>\n",
       "      <td>20140602</td>\n",
       "      <td>1</td>\n",
       "      <td>1000000</td>\n",
       "      <td>20180620</td>\n",
       "      <td>20221013</td>\n",
       "      <td>111.220</td>\n",
       "      <td>2.240</td>\n",
       "      <td>335</td>\n",
       "      <td>114347.0</td>\n",
       "      <td>11570</td>\n",
       "      <td>454</td>\n",
       "      <td>4</td>\n",
       "    </tr>\n",
       "    <tr>\n",
       "      <th>6206</th>\n",
       "      <td>1657313.0</td>\n",
       "      <td>1</td>\n",
       "      <td>20200501</td>\n",
       "      <td>20180209</td>\n",
       "      <td>2</td>\n",
       "      <td>5000000</td>\n",
       "      <td>20180620</td>\n",
       "      <td>20221013</td>\n",
       "      <td>99.760</td>\n",
       "      <td>1.881</td>\n",
       "      <td>323</td>\n",
       "      <td>118599.0</td>\n",
       "      <td>6753</td>\n",
       "      <td>204</td>\n",
       "      <td>1</td>\n",
       "    </tr>\n",
       "    <tr>\n",
       "      <th>6207</th>\n",
       "      <td>1657317.0</td>\n",
       "      <td>1</td>\n",
       "      <td>20481201</td>\n",
       "      <td>20140602</td>\n",
       "      <td>1</td>\n",
       "      <td>1250000</td>\n",
       "      <td>20180620</td>\n",
       "      <td>20221013</td>\n",
       "      <td>111.198</td>\n",
       "      <td>2.241</td>\n",
       "      <td>321</td>\n",
       "      <td>7177.0</td>\n",
       "      <td>6687</td>\n",
       "      <td>178</td>\n",
       "      <td>4</td>\n",
       "    </tr>\n",
       "    <tr>\n",
       "      <th>6208</th>\n",
       "      <td>1657317.0</td>\n",
       "      <td>1</td>\n",
       "      <td>20481201</td>\n",
       "      <td>20140602</td>\n",
       "      <td>1</td>\n",
       "      <td>1250000</td>\n",
       "      <td>20180620</td>\n",
       "      <td>20221013</td>\n",
       "      <td>111.130</td>\n",
       "      <td>2.244</td>\n",
       "      <td>327</td>\n",
       "      <td>7687.0</td>\n",
       "      <td>6687</td>\n",
       "      <td>178</td>\n",
       "      <td>4</td>\n",
       "    </tr>\n",
       "    <tr>\n",
       "      <th>6209</th>\n",
       "      <td>1657317.0</td>\n",
       "      <td>1</td>\n",
       "      <td>20481201</td>\n",
       "      <td>20140602</td>\n",
       "      <td>1</td>\n",
       "      <td>1250000</td>\n",
       "      <td>20180620</td>\n",
       "      <td>20221013</td>\n",
       "      <td>111.190</td>\n",
       "      <td>2.241</td>\n",
       "      <td>334</td>\n",
       "      <td>113683.0</td>\n",
       "      <td>6687</td>\n",
       "      <td>178</td>\n",
       "      <td>4</td>\n",
       "    </tr>\n",
       "    <tr>\n",
       "      <th>6210</th>\n",
       "      <td>1657317.0</td>\n",
       "      <td>1</td>\n",
       "      <td>20481201</td>\n",
       "      <td>20140602</td>\n",
       "      <td>1</td>\n",
       "      <td>1250000</td>\n",
       "      <td>20180620</td>\n",
       "      <td>20221013</td>\n",
       "      <td>111.300</td>\n",
       "      <td>2.236</td>\n",
       "      <td>337</td>\n",
       "      <td>5168.0</td>\n",
       "      <td>6687</td>\n",
       "      <td>178</td>\n",
       "      <td>4</td>\n",
       "    </tr>\n",
       "    <tr>\n",
       "      <th>6211</th>\n",
       "      <td>1657324.0</td>\n",
       "      <td>1</td>\n",
       "      <td>20481201</td>\n",
       "      <td>20140602</td>\n",
       "      <td>1</td>\n",
       "      <td>1250000</td>\n",
       "      <td>20180620</td>\n",
       "      <td>20221013</td>\n",
       "      <td>111.180</td>\n",
       "      <td>2.241</td>\n",
       "      <td>321</td>\n",
       "      <td>7177.0</td>\n",
       "      <td>6687</td>\n",
       "      <td>178</td>\n",
       "      <td>4</td>\n",
       "    </tr>\n",
       "    <tr>\n",
       "      <th>6212</th>\n",
       "      <td>1657324.0</td>\n",
       "      <td>1</td>\n",
       "      <td>20481201</td>\n",
       "      <td>20140602</td>\n",
       "      <td>1</td>\n",
       "      <td>1250000</td>\n",
       "      <td>20180620</td>\n",
       "      <td>20221013</td>\n",
       "      <td>111.130</td>\n",
       "      <td>2.244</td>\n",
       "      <td>327</td>\n",
       "      <td>7687.0</td>\n",
       "      <td>6687</td>\n",
       "      <td>178</td>\n",
       "      <td>4</td>\n",
       "    </tr>\n",
       "    <tr>\n",
       "      <th>6213</th>\n",
       "      <td>1657324.0</td>\n",
       "      <td>1</td>\n",
       "      <td>20481201</td>\n",
       "      <td>20140602</td>\n",
       "      <td>1</td>\n",
       "      <td>1250000</td>\n",
       "      <td>20180620</td>\n",
       "      <td>20221013</td>\n",
       "      <td>111.150</td>\n",
       "      <td>2.243</td>\n",
       "      <td>334</td>\n",
       "      <td>113683.0</td>\n",
       "      <td>6687</td>\n",
       "      <td>178</td>\n",
       "      <td>4</td>\n",
       "    </tr>\n",
       "  </tbody>\n",
       "</table>\n",
       "</div>"
      ],
      "text/plain": [
       "      SecurityID  SecurityType  MaturityDate  IssueDate  Side  OrderQty  \\\n",
       "6204   1657312.0             1      20481201   20140602     1   1000000   \n",
       "6205   1657312.0             1      20481201   20140602     1   1000000   \n",
       "6206   1657313.0             1      20200501   20180209     2   5000000   \n",
       "6207   1657317.0             1      20481201   20140602     1   1250000   \n",
       "6208   1657317.0             1      20481201   20140602     1   1250000   \n",
       "6209   1657317.0             1      20481201   20140602     1   1250000   \n",
       "6210   1657317.0             1      20481201   20140602     1   1250000   \n",
       "6211   1657324.0             1      20481201   20140602     1   1250000   \n",
       "6212   1657324.0             1      20481201   20140602     1   1250000   \n",
       "6213   1657324.0             1      20481201   20140602     1   1250000   \n",
       "\n",
       "      SettlDate  TransactTime    Price  Yield  DealerID  DealerTraderID  \\\n",
       "6204   20180620      20221013  111.140  2.243       334        113683.0   \n",
       "6205   20180620      20221013  111.220  2.240       335        114347.0   \n",
       "6206   20180620      20221013   99.760  1.881       323        118599.0   \n",
       "6207   20180620      20221013  111.198  2.241       321          7177.0   \n",
       "6208   20180620      20221013  111.130  2.244       327          7687.0   \n",
       "6209   20180620      20221013  111.190  2.241       334        113683.0   \n",
       "6210   20180620      20221013  111.300  2.236       337          5168.0   \n",
       "6211   20180620      20221013  111.180  2.241       321          7177.0   \n",
       "6212   20180620      20221013  111.130  2.244       327          7687.0   \n",
       "6213   20180620      20221013  111.150  2.243       334        113683.0   \n",
       "\n",
       "      CustomerTraderID  CustomerID  DealerCount  \n",
       "6204             11570         454            4  \n",
       "6205             11570         454            4  \n",
       "6206              6753         204            1  \n",
       "6207              6687         178            4  \n",
       "6208              6687         178            4  \n",
       "6209              6687         178            4  \n",
       "6210              6687         178            4  \n",
       "6211              6687         178            4  \n",
       "6212              6687         178            4  \n",
       "6213              6687         178            4  "
      ]
     },
     "execution_count": 24,
     "metadata": {},
     "output_type": "execute_result"
    }
   ],
   "source": [
    "df.head(10)"
   ]
  },
  {
   "cell_type": "markdown",
   "id": "9989e5bb",
   "metadata": {},
   "source": [
    "## Step 3.1: Select and Import a ML Algorithm\n",
    "\n",
    "\n",
    "As mentioned previously, we will be using supervised regression for our ML model. "
   ]
  },
  {
   "cell_type": "code",
   "execution_count": 25,
   "id": "ec0e307a",
   "metadata": {},
   "outputs": [],
   "source": [
    "from sklearn.model_selection import train_test_split\n",
    "from sklearn.ensemble import RandomForestRegressor"
   ]
  },
  {
   "cell_type": "markdown",
   "id": "1529d64b",
   "metadata": {},
   "source": [
    "## Step 3.2: Train the ML Model"
   ]
  },
  {
   "cell_type": "code",
   "execution_count": 26,
   "id": "b2323c03",
   "metadata": {},
   "outputs": [],
   "source": [
    "Y = df.iloc[:,8]\n",
    "X = df.iloc[:,:8]"
   ]
  },
  {
   "cell_type": "markdown",
   "id": "3c43c458",
   "metadata": {},
   "source": [
    "We have now prepared our X dataset and Y vector to be used in the model. Y contains only the Price feature, whereas X contains all other features in the preprocessed dataset. We will split the dataset into two; 80% of tuples will be used to train the model while the other 20% will be used to test the accuracy of the model."
   ]
  },
  {
   "cell_type": "code",
   "execution_count": 27,
   "id": "2506997f",
   "metadata": {},
   "outputs": [
    {
     "data": {
      "text/plain": [
       "RandomForestRegressor()"
      ]
     },
     "execution_count": 27,
     "metadata": {},
     "output_type": "execute_result"
    }
   ],
   "source": [
    "X_train, X_test, Y_train, Y_test = train_test_split(X,Y, test_size=0.2, random_state=0)\n",
    "rf_regressor = RandomForestRegressor(n_estimators=100)\n",
    "rf_regressor.fit(X_train, Y_train)"
   ]
  },
  {
   "cell_type": "markdown",
   "id": "9540e8e2",
   "metadata": {},
   "source": [
    "## Step 3.3: Test the ML Model"
   ]
  },
  {
   "cell_type": "markdown",
   "id": "7d460c81",
   "metadata": {},
   "source": [
    "Powered by the training data, we can feed our test data into the model and cross-check the model's predictions with the actual prices in the test set. This is a very useful way of judging the accuracy of the model."
   ]
  },
  {
   "cell_type": "code",
   "execution_count": 28,
   "id": "d31785c2",
   "metadata": {},
   "outputs": [],
   "source": [
    "Y_pred = rf_regressor.predict(X_test)"
   ]
  },
  {
   "cell_type": "markdown",
   "id": "6d603085",
   "metadata": {},
   "source": [
    "### Predicted v Actual Scatter Plot"
   ]
  },
  {
   "cell_type": "code",
   "execution_count": 29,
   "id": "5dd3b951",
   "metadata": {
    "scrolled": true
   },
   "outputs": [
    {
     "data": {
      "image/png": "[encoded data removed]",
      "text/plain": [
       "<Figure size 432x288 with 1 Axes>"
      ]
     },
     "metadata": {
      "needs_background": "light"
     },
     "output_type": "display_data"
    }
   ],
   "source": [
    "import matplotlib.pyplot as plt\n",
    "plt.scatter(Y_test, Y_pred)\n",
    "plt.xlabel('Actual')\n",
    "plt.ylabel('Predicted')\n",
    "plt.show()"
   ]
  },
  {
   "cell_type": "markdown",
   "id": "c01d4454",
   "metadata": {},
   "source": [
    "### Residual Plot"
   ]
  },
  {
   "cell_type": "code",
   "execution_count": 30,
   "id": "727d9616",
   "metadata": {},
   "outputs": [
    {
     "data": {
      "image/png": "[encoded data removed]",
      "text/plain": [
       "<Figure size 432x288 with 1 Axes>"
      ]
     },
     "metadata": {
      "needs_background": "light"
     },
     "output_type": "display_data"
    }
   ],
   "source": [
    "plt.scatter(Y_pred, Y_pred - Y_test, c='blue', marker='o')\n",
    "plt.xlabel('Predicted values')\n",
    "plt.ylabel('Residuals')\n",
    "plt.hlines(y=0, xmin=80, xmax=180, lw=2, color='red')\n",
    "plt.xlim([80, 180])\n",
    "plt.show()"
   ]
  },
  {
   "cell_type": "markdown",
   "id": "015649a1",
   "metadata": {},
   "source": [
    "### Coefficient of Determination"
   ]
  },
  {
   "cell_type": "code",
   "execution_count": 31,
   "id": "a405afde",
   "metadata": {},
   "outputs": [
    {
     "name": "stdout",
     "output_type": "stream",
     "text": [
      "0.9975825391904152\n"
     ]
    }
   ],
   "source": [
    "from sklearn import metrics\n",
    "print(metrics.r2_score(Y_test,Y_pred))"
   ]
  },
  {
   "cell_type": "markdown",
   "id": "aa58e41e",
   "metadata": {},
   "source": [
    "The above output explains the correlation between the predicted and actual scores in the test dataset. The model uses the training dataset to feed values into the model and learn how to predict bond price values from the various features. The predicted values and actual values have a very strong positive relationship, shown by the $r^2$ value greater than 99%. Over 99% of the variability in the price of bonds can be explained by our regression model. This is backed up by looking at both previous plots. In the predicted v actual, nearly all points lie on a 45 degree slope, indicating a near perfect relationship between the predictions and the actual values. The purpose of the residual plot is to highlight the error of the predictions. Y values close to 0 show that the model is quite accurate. \n",
    "\n",
    "\n",
    "To conclude, I believe that the model is an appropriate method of predicting and evaluating the price of a bond. To make use of this model, one could feed bond data through this model to obtain a difference in the predicted and actual bond price. The difference metric could be used to understand whether a bond may be undervalued or overvalued."
   ]
  }
 ],
 "metadata": {
  "kernelspec": {
   "display_name": "Python 3 (ipykernel)",
   "language": "python",
   "name": "python3"
  },
  "language_info": {
   "codemirror_mode": {
    "name": "ipython",
    "version": 3
   },
   "file_extension": ".py",
   "mimetype": "text/x-python",
   "name": "python",
   "nbconvert_exporter": "python",
   "pygments_lexer": "ipython3",
   "version": "3.9.12"
  }
 },
 "nbformat": 4,
 "nbformat_minor": 5
}
