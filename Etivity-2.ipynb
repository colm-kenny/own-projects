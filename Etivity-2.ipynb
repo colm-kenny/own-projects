{
 "cells": [
  {
   "cell_type": "markdown",
   "id": "6c2603d7",
   "metadata": {},
   "source": [
    "# Etivity-2 CS6501\n",
    "\n",
    "## Submission Info\n",
    "### Student Name: <span style=\"color:red\">Colm</span>\n",
    "### Student Surname: <span style=\"color:red\">Kenny</span>\n",
    "### Student ID: <span style=\"color:red\">18225012</span>\n",
    "### Date of Final Submission: <span style=\"color:red\">27/11/2022</span>\n",
    "***"
   ]
  },
  {
   "cell_type": "markdown",
   "id": "a2b8d751",
   "metadata": {},
   "source": [
    "## Task\n",
    "In this e-tivity, you are asked to determine the components of a linear/non-linear programming problem, and then to implement in Python a program that will solve that problem by using the <b>scipy.optimize</b> library. Please, consult the lectures of Week #2 for more details on how we determine the components of a linear/non-linear programming problem and also, how we implement linear/non-linear programs in Python. The program you are going to implement is based on a real-life scenario, which is invented by the author of this assignment and thus, the numbers provided are fictive.\n",
    "## The real-life scenario\n",
    "Mazda Motor Corporation produces three models of its CX series: Mazda CX-3, Mazda CX-5, and Mazda CX-9. Market projections indicate an expected monthly demand of at least: 3500 cars of the CX-3 model, 5000 cars of the CX-5 model, and 2100 cars of the CX-9 model.  Due to insufficient production capacity, no more than 4000 cars can be made of model CX-3, no more than 7000 cars can be made of model CX-5, and no more than 2500 cars can be made of model CX-9. Due to existing contracts with car dealers worldwide, a total of at least 12000 cars must be produced each month. Here is the financial result calculated as production cost – selling cost per model: \n",
    "<li>CX-3: EUR 3400 profit</li> \n",
    "<li>CX-5: EUR 2500 loss</li>\n",
    "<li>CX-9: EUR 7200 profit</li>\n",
    "<br>\n",
    "How many cars of each Mazda CX model should be produced monthly, so to maximize the total net profit?  \n",
    "<br><br>"
   ]
  },
  {
   "cell_type": "markdown",
   "id": "a2788722",
   "metadata": {},
   "source": [
    "## Step 1: Determine the programming problem: linear or non-linear.  (5%)"
   ]
  },
  {
   "cell_type": "markdown",
   "id": "b7ad3798",
   "metadata": {},
   "source": [
    "We will be using linear programming as all contraints and the objective function are of linear form."
   ]
  },
  {
   "cell_type": "markdown",
   "id": "6b20db4c",
   "metadata": {},
   "source": [
    "## Step 2: Define the components of the LPP/NLPP tuple  <D, f, Fc , C, Cn, R, Tc>. (45%)"
   ]
  },
  {
   "cell_type": "markdown",
   "id": "ab29788f",
   "metadata": {},
   "source": [
    "### Step 2.1: D - Decision Variables (5%)"
   ]
  },
  {
   "cell_type": "markdown",
   "id": "41dc99c7",
   "metadata": {},
   "source": [
    "* $D$ = {$x_1, x_2, x_3$}\n",
    "* $x_1$ = CX-3\n",
    "* $x_2$ = CX-5\n",
    "* $x_3$ = CX-9"
   ]
  },
  {
   "cell_type": "markdown",
   "id": "ee5b9a4b",
   "metadata": {},
   "source": [
    "### Step 2.2: f - Objective Function (20%)"
   ]
  },
  {
   "cell_type": "markdown",
   "id": "273fa454",
   "metadata": {},
   "source": [
    "$max[z]:  z = 3400 x_1 - 2500 x_2 + 7200 x_3 $"
   ]
  },
  {
   "cell_type": "markdown",
   "id": "c0ecd215",
   "metadata": {},
   "source": [
    "### Step 2.3: Fc - Objective Function Coefficients (3%)"
   ]
  },
  {
   "cell_type": "markdown",
   "id": "733c086d",
   "metadata": {},
   "source": [
    "$F_c$ = {$3400:x1, 2500:x2, 7200:x3$}"
   ]
  },
  {
   "cell_type": "markdown",
   "id": "c4a839dc",
   "metadata": {},
   "source": [
    "### Step 2.4: C - Constraints (10%)\n",
    "\n",
    "$C$ = {$x_1 + x_2 + x_3 \\geq 12000$}\n",
    "\n",
    "#### Standard Form Constraints\n",
    "\n",
    "$x_1 + x_2 + x_3 - s_1 = 12000,  s_1 \\geq 0$\n",
    "\n",
    "We add a surplus variable to the orginal constraint to transform the inequality to an eqaulity constraint"
   ]
  },
  {
   "cell_type": "markdown",
   "id": "69acd9ae",
   "metadata": {},
   "source": [
    "### Step 2.5: Cn – Non-negative Constraints (3%)\n",
    "\n",
    "$C_n$ = {$0 \\leq x_1 \\leq 4000, 0 \\leq x_2 \\leq 7000, 0 \\leq x_3 \\leq 2500$}"
   ]
  },
  {
   "cell_type": "markdown",
   "id": "d484e3ed",
   "metadata": {},
   "source": [
    "### Step 2.6: R – Resource Availability (2%)\n",
    "R = {$12000$}"
   ]
  },
  {
   "cell_type": "markdown",
   "id": "74d4adbf",
   "metadata": {},
   "source": [
    "### Step 2.7: Tc – Technological Coefficients (2%)\n",
    "$T_c$ = {1,1,1}"
   ]
  },
  {
   "cell_type": "markdown",
   "id": "e9de73a9",
   "metadata": {},
   "source": [
    "## Step 3: Implement the LPP/NLPP in Python by using scipy.optimize as shown in the lectures. (50%) "
   ]
  },
  {
   "cell_type": "markdown",
   "id": "d4e74f18",
   "metadata": {},
   "source": [
    "Use the <b>scipy.optimize</b> library to implement a program that will solve the linear/non-linear programming problem specified in Step 2. "
   ]
  },
  {
   "cell_type": "markdown",
   "id": "bd3ae2ef",
   "metadata": {},
   "source": [
    "### Step 3.1: Implement the programming model. (40%)"
   ]
  },
  {
   "cell_type": "code",
   "execution_count": 20,
   "id": "c350d2fb",
   "metadata": {},
   "outputs": [],
   "source": [
    "from scipy.optimize import linprog\n",
    "\n",
    "#create parameters for linprog function\n",
    "# linprog works with min problems only: change signs in objective function\n",
    "#0 as lower bounds as negative no. cars cannot be produced\n",
    "obj = [-3400, 2500, -7200]\n",
    "lhs_ineq = [[-1, -1, -1]] \n",
    "rhs_ineq = [-12000]\n",
    "bnd = [(0,4000), (0,7000), (0,2500)]"
   ]
  },
  {
   "cell_type": "markdown",
   "id": "9fc20d41",
   "metadata": {},
   "source": [
    "### Step 3.2: Execute the programming model. (8%)"
   ]
  },
  {
   "cell_type": "code",
   "execution_count": 21,
   "id": "b4241adf",
   "metadata": {},
   "outputs": [],
   "source": [
    "opt = linprog(c = obj, A_ub = lhs_ineq, b_ub = rhs_ineq, bounds = bnd, method = 'revised simplex')"
   ]
  },
  {
   "cell_type": "markdown",
   "id": "b6b85948",
   "metadata": {},
   "source": [
    "### Step 3.3: Show the result of your program's execution. (2%)"
   ]
  },
  {
   "cell_type": "code",
   "execution_count": 22,
   "id": "9c60a865",
   "metadata": {},
   "outputs": [
    {
     "data": {
      "text/plain": [
       "     con: array([], dtype=float64)\n",
       "     fun: -17850000.0\n",
       " message: 'Optimization terminated successfully.'\n",
       "     nit: 4\n",
       "   slack: array([0.])\n",
       "  status: 0\n",
       " success: True\n",
       "       x: array([4000., 5500., 2500.])"
      ]
     },
     "execution_count": 22,
     "metadata": {},
     "output_type": "execute_result"
    }
   ],
   "source": [
    "opt"
   ]
  },
  {
   "cell_type": "markdown",
   "id": "6aef9e16",
   "metadata": {},
   "source": [
    "#### Optimum values vs. Expected demand "
   ]
  },
  {
   "cell_type": "code",
   "execution_count": 23,
   "id": "1ac09e50",
   "metadata": {
    "scrolled": true
   },
   "outputs": [
    {
     "name": "stdout",
     "output_type": "stream",
     "text": [
      "Optimum Values\n",
      "CX-3: 4000, CX-5: 5500, CX-9: 2500\n",
      "Expected Demand\n",
      "CX-3: 3500, CX-5: 5000, CX-9: 2100\n"
     ]
    }
   ],
   "source": [
    "print(\"Optimum Values\\nCX-3: %d, CX-5: %d, CX-9: %d\\nExpected Demand\\nCX-3: %d, CX-5: %d, CX-9: %d\" % (opt.x[0], opt.x[1], opt.x[2], 3500, 5000, 2100))"
   ]
  },
  {
   "cell_type": "markdown",
   "id": "25846918",
   "metadata": {},
   "source": [
    "The optimum values derived from our linear program produce net profits of $17850000 while producing more than the expected demand of all models. To maximise profits 4000 CX-3's, 5500 CX-5's, and 2500 CX-9's should be produced.   "
   ]
  }
 ],
 "metadata": {
  "kernelspec": {
   "display_name": "Python 3 (ipykernel)",
   "language": "python",
   "name": "python3"
  },
  "language_info": {
   "codemirror_mode": {
    "name": "ipython",
    "version": 3
   },
   "file_extension": ".py",
   "mimetype": "text/x-python",
   "name": "python",
   "nbconvert_exporter": "python",
   "pygments_lexer": "ipython3",
   "version": "3.9.12"
  }
 },
 "nbformat": 4,
 "nbformat_minor": 5
}
